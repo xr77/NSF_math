{
 "cells": [
  {
   "cell_type": "code",
   "execution_count": 1,
   "metadata": {},
   "outputs": [
    {
     "name": "stdout",
     "output_type": "stream",
     "text": [
      "Populating the interactive namespace from numpy and matplotlib\n"
     ]
    }
   ],
   "source": [
    "%pylab inline\n",
    "import pandas as pd\n",
    "from tqdm import tqdm"
   ]
  },
  {
   "cell_type": "code",
   "execution_count": 2,
   "metadata": {},
   "outputs": [],
   "source": [
    "subj_list = [304,305,306,307,308,309,345,362,330,363,388,3106,3107,310,361,356,3101,3102,399,3122,364,318,352,393,346,3110,397,343,337,3123,312,3120,3112,311,331,396,313,3124,340,374,335,3113,3119,342,3125,3100,3114,366,365,385,327,3108,353,368,326,360,336,314,3117,382,325,390,398,391,334,380,3118,3105,378,386,358,324,3116,317,392,3103,384,3121,354,3115,341,350,377,369,348,394,3111,379,3126,3127,3128,3129,315,319,321,323,328,332,333,339,347,349,351,355,357,367,370,372,373,381,383,387,395,3104,3109]\n",
    "#subj_list = [371,375] # problematic"
   ]
  },
  {
   "cell_type": "code",
   "execution_count": 3,
   "metadata": {},
   "outputs": [
    {
     "name": "stderr",
     "output_type": "stream",
     "text": [
      "100%|██████████| 115/115 [01:38<00:00,  1.17it/s]\n"
     ]
    }
   ],
   "source": [
    "for i in tqdm(subj_list):\n",
    "    #print(i)\n",
    "    df  = pd.read_csv (f\"/Volumes/project/NSFMath/Main/Behavioral_Task_Data/Computer_tasks//s{i}/para_Sub{i}_Estimation_1.csv\")\n",
    "    df1 = pd.read_csv (f\"/Volumes/project/NSFMath/Main/Behavioral_Task_Data/Computer_tasks//s{i}/Sub{i}_Estimation_1.csv\")\n",
    "    df2 = pd.read_csv (f\"/Volumes/project/NSFMath/Main/Behavioral_Task_Data/Computer_tasks//s{i}/Sub{i}_Estimation_2.csv\")\n",
    "\n",
    "    df = df.to_numpy()\n",
    "    alpha = df[0,2]\n",
    "    beta = df[0,3]\n",
    "\n",
    "    estimation_combined = df1.append(df2, ignore_index=True, sort=False)\n",
    "\n",
    "    pic_id = estimation_combined ['picID']\n",
    "\n",
    "    estimation_combined ['dot_quantity'] = pic_id.apply(lambda x: int(x.split('_')[2]))#everyting out of str is str, so need to change to integer\n",
    "    #estimation_combined ['Response']=estimation_combined ['Response'].apply(lambda x : int(x[:-3]) if type(x)==str and ('+' in x) else int(x))\n",
    "    #import pdb;pdb.set_trace()\n",
    "    estimation_combined ['residual'] =estimation_combined ['Response']- alpha*estimation_combined['dot_quantity']**beta\n",
    "\n",
    "\n",
    "    estimation_combined.to_csv(f\"/Volumes/project/NSFMath/Main/Behavioral_Task_Data/Computer_tasks//s{i}/s{i}_estimation_combined_residual.csv\",index = False)"
   ]
  },
  {
   "cell_type": "code",
   "execution_count": 4,
   "metadata": {},
   "outputs": [
    {
     "data": {
      "text/plain": [
       "<matplotlib.axes._subplots.AxesSubplot at 0x11ed9c3d0>"
      ]
     },
     "execution_count": 4,
     "metadata": {},
     "output_type": "execute_result"
    },
    {
     "data": {
      "image/png": "[encoded data removed]",
      "text/plain": [
       "<Figure size 432x288 with 1 Axes>"
      ]
     },
     "metadata": {
      "needs_background": "light"
     },
     "output_type": "display_data"
    }
   ],
   "source": [
    "estimation_combined ['residual'].plot()"
   ]
  },
  {
   "cell_type": "markdown",
   "metadata": {},
   "source": [
    "## Find extreme alpha and beta, then plug in the estimation function, then adjust all the trials. 081620"
   ]
  },
  {
   "cell_type": "code",
   "execution_count": 6,
   "metadata": {},
   "outputs": [
    {
     "name": "stderr",
     "output_type": "stream",
     "text": [
      "100%|██████████| 115/115 [00:30<00:00,  3.79it/s]\n"
     ]
    }
   ],
   "source": [
    "results = []\n",
    "for i in tqdm(subj_list):\n",
    "    df4  = pd.read_csv (f\"/Volumes/project/NSFMath/Main/Behavioral_Task_Data/Computer_tasks//s{i}/para_Sub{i}_Estimation_1.csv\")\n",
    "    df4 = df4.to_numpy()\n",
    "    alpha = df4[0,2]\n",
    "    beta = df4 [0,3]\n",
    "    \n",
    "    results_dict = {'SubjID': i, 'alpha': alpha, 'beta': beta}\n",
    "    \n",
    "    results.append(results_dict)"
   ]
  },
  {
   "cell_type": "code",
   "execution_count": 7,
   "metadata": {},
   "outputs": [],
   "source": [
    "data_resutls = pd.DataFrame(results)\n",
    "data_resutls.to_csv ('/Volumes/project/NSFMath/Main/Behavioral_Task_Data/Computer_tasks/all_subjs_alpha_beta.csv',index = False)"
   ]
  },
  {
   "cell_type": "markdown",
   "metadata": {},
   "source": [
    "## Take extreme case s3110 for example"
   ]
  },
  {
   "cell_type": "code",
   "execution_count": 37,
   "metadata": {},
   "outputs": [],
   "source": [
    "sub_lst = [367]\n",
    "alpha = 6.47\n",
    "beta = 0.58"
   ]
  },
  {
   "cell_type": "code",
   "execution_count": 38,
   "metadata": {},
   "outputs": [
    {
     "name": "stderr",
     "output_type": "stream",
     "text": [
      "/Users/xueyingren/anaconda3/lib/python3.7/site-packages/ipykernel_launcher.py:12: SettingWithCopyWarning: \n",
      "A value is trying to be set on a copy of a slice from a DataFrame.\n",
      "Try using .loc[row_indexer,col_indexer] = value instead\n",
      "\n",
      "See the caveats in the documentation: http://pandas.pydata.org/pandas-docs/stable/user_guide/indexing.html#returning-a-view-versus-a-copy\n",
      "  if sys.path[0] == '':\n",
      "/Users/xueyingren/anaconda3/lib/python3.7/site-packages/ipykernel_launcher.py:23: SettingWithCopyWarning: \n",
      "A value is trying to be set on a copy of a slice from a DataFrame.\n",
      "Try using .loc[row_indexer,col_indexer] = value instead\n",
      "\n",
      "See the caveats in the documentation: http://pandas.pydata.org/pandas-docs/stable/user_guide/indexing.html#returning-a-view-versus-a-copy\n"
     ]
    },
    {
     "ename": "IndexError",
     "evalue": "only integers, slices (`:`), ellipsis (`...`), numpy.newaxis (`None`) and integer or boolean arrays are valid indices",
     "output_type": "error",
     "traceback": [
      "\u001b[0;31m---------------------------------------------------------------------------\u001b[0m",
      "\u001b[0;31mIndexError\u001b[0m                                Traceback (most recent call last)",
      "\u001b[0;32m<ipython-input-38-f2d129568e76>\u001b[0m in \u001b[0;36m<module>\u001b[0;34m\u001b[0m\n\u001b[1;32m     24\u001b[0m     \u001b[0mdf_dot\u001b[0m\u001b[0;34m.\u001b[0m\u001b[0mloc\u001b[0m\u001b[0;34m[\u001b[0m\u001b[0minfo2_sym\u001b[0m \u001b[0;34m==\u001b[0m \u001b[0;32mFalse\u001b[0m\u001b[0;34m,\u001b[0m \u001b[0;34m'dot_quan_2'\u001b[0m\u001b[0;34m]\u001b[0m \u001b[0;34m=\u001b[0m \u001b[0malpha\u001b[0m\u001b[0;34m*\u001b[0m\u001b[0mdf_dot\u001b[0m\u001b[0;34m.\u001b[0m\u001b[0mloc\u001b[0m\u001b[0;34m[\u001b[0m\u001b[0minfo2_sym\u001b[0m \u001b[0;34m==\u001b[0m \u001b[0;32mFalse\u001b[0m\u001b[0;34m,\u001b[0m \u001b[0;34m'dot_quan_2'\u001b[0m\u001b[0;34m]\u001b[0m\u001b[0;34m**\u001b[0m\u001b[0mbeta\u001b[0m\u001b[0;34m\u001b[0m\u001b[0;34m\u001b[0m\u001b[0m\n\u001b[1;32m     25\u001b[0m \u001b[0;34m\u001b[0m\u001b[0m\n\u001b[0;32m---> 26\u001b[0;31m     \u001b[0mdf_dot\u001b[0m\u001b[0;34m[\u001b[0m\u001b[0;34m'ratio_adjusted'\u001b[0m\u001b[0;34m]\u001b[0m \u001b[0;34m=\u001b[0m \u001b[0mdf\u001b[0m\u001b[0;34m[\u001b[0m\u001b[0;34m'dot_quan_1'\u001b[0m\u001b[0;34m]\u001b[0m\u001b[0;34m/\u001b[0m\u001b[0mdf\u001b[0m\u001b[0;34m[\u001b[0m\u001b[0;34m'dot_quan_2'\u001b[0m\u001b[0;34m]\u001b[0m\u001b[0;34m\u001b[0m\u001b[0;34m\u001b[0m\u001b[0m\n\u001b[0m\u001b[1;32m     27\u001b[0m \u001b[0;34m\u001b[0m\u001b[0m\n\u001b[1;32m     28\u001b[0m     \u001b[0mdf_dot\u001b[0m\u001b[0;34m[\u001b[0m\u001b[0;34m'ratio_adjusted'\u001b[0m\u001b[0;34m]\u001b[0m \u001b[0;34m=\u001b[0m \u001b[0mdf_dot\u001b[0m\u001b[0;34m[\u001b[0m\u001b[0;34m'ratio_adjusted'\u001b[0m\u001b[0;34m]\u001b[0m\u001b[0;34m.\u001b[0m\u001b[0mapply\u001b[0m\u001b[0;34m(\u001b[0m\u001b[0;32mlambda\u001b[0m \u001b[0mx\u001b[0m\u001b[0;34m:\u001b[0m \u001b[0;36m1\u001b[0m\u001b[0;34m/\u001b[0m\u001b[0mx\u001b[0m \u001b[0;32mif\u001b[0m \u001b[0mx\u001b[0m\u001b[0;34m<\u001b[0m\u001b[0;36m1\u001b[0m \u001b[0;32melse\u001b[0m \u001b[0mx\u001b[0m\u001b[0;34m)\u001b[0m\u001b[0;34m\u001b[0m\u001b[0;34m\u001b[0m\u001b[0m\n",
      "\u001b[0;31mIndexError\u001b[0m: only integers, slices (`:`), ellipsis (`...`), numpy.newaxis (`None`) and integer or boolean arrays are valid indices"
     ]
    }
   ],
   "source": [
    "for i in sub_lst:\n",
    "    df_raw = pd.read_csv (f\"/Volumes/project/NSFMath/Main/Behavioral_Task_Data/Computer_tasks//s{i}/Sub{i}_comparison_corrected.csv\")\n",
    "    \n",
    "    df_dot = df_raw.loc[df_raw['Condition']!=2]\n",
    "    \n",
    "    pic_id_1 = df_dot ['img1']\n",
    "    info1 = pic_id_1.apply(lambda x: x.split('/')[-1])\n",
    "    \n",
    "    info1_quan = info1.apply(lambda x: int(x.split('_')[-2]))\n",
    "    info1_sym = info1.apply(lambda x: True if ('S'in x) else False)\n",
    "    \n",
    "    df_dot['dot_quan_1'] = info1_quan\n",
    "    df_dot.loc[info1_sym == False, 'dot_quan_1'] = alpha*df_dot.loc[info1_sym == False, 'dot_quan_1']**beta\n",
    "    \n",
    "# picture #2\n",
    "\n",
    "    pic_id_2 = df_dot ['img2']\n",
    "    info2 = pic_id_2.apply(lambda x: x.split('/')[-1])\n",
    "    \n",
    "    info2_quan = info2.apply(lambda x: int(x.split('_')[-2]))\n",
    "    info2_sym = info2.apply(lambda x: True if ('S'in x) else False)\n",
    "    \n",
    "    df_dot['dot_quan_2'] = info2_quan\n",
    "    df_dot.loc[info2_sym == False, 'dot_quan_2'] = alpha*df_dot.loc[info2_sym == False, 'dot_quan_2']**beta\n",
    "    \n",
    "    df_dot['ratio_adjusted'] = df_dot['dot_quan_1']/df['dot_quan_2']\n",
    "    \n",
    "    df_dot['ratio_adjusted'] = df_dot['ratio_adjusted'].apply(lambda x: 1/x if x<1 else x)\n",
    "  "
   ]
  },
  {
   "cell_type": "code",
   "execution_count": 36,
   "metadata": {},
   "outputs": [
    {
     "data": {
      "text/html": [
       "<div>\n",
       "<style scoped>\n",
       "    .dataframe tbody tr th:only-of-type {\n",
       "        vertical-align: middle;\n",
       "    }\n",
       "\n",
       "    .dataframe tbody tr th {\n",
       "        vertical-align: top;\n",
       "    }\n",
       "\n",
       "    .dataframe thead th {\n",
       "        text-align: right;\n",
       "    }\n",
       "</style>\n",
       "<table border=\"1\" class=\"dataframe\">\n",
       "  <thead>\n",
       "    <tr style=\"text-align: right;\">\n",
       "      <th></th>\n",
       "      <th>Unnamed: 0</th>\n",
       "      <th>TrialID</th>\n",
       "      <th>img1</th>\n",
       "      <th>img2</th>\n",
       "      <th>Response</th>\n",
       "      <th>RT</th>\n",
       "      <th>Condition</th>\n",
       "      <th>Correct_Answer</th>\n",
       "      <th>Ratio</th>\n",
       "      <th>dot_quan_1</th>\n",
       "      <th>dot_quan_2</th>\n",
       "    </tr>\n",
       "  </thead>\n",
       "  <tbody>\n",
       "    <tr>\n",
       "      <td>1</td>\n",
       "      <td>1</td>\n",
       "      <td>109</td>\n",
       "      <td>/Users/taylorcasteel/Desktop/Adult_NSFMath_Mai...</td>\n",
       "      <td>/Users/taylorcasteel/Desktop/Adult_NSFMath_Mai...</td>\n",
       "      <td>2</td>\n",
       "      <td>6.777073</td>\n",
       "      <td>1</td>\n",
       "      <td>1</td>\n",
       "      <td>2</td>\n",
       "      <td>54.165375</td>\n",
       "      <td>40.872086</td>\n",
       "    </tr>\n",
       "    <tr>\n",
       "      <td>2</td>\n",
       "      <td>2</td>\n",
       "      <td>55</td>\n",
       "      <td>/Users/taylorcasteel/Desktop/Adult_NSFMath_Mai...</td>\n",
       "      <td>/Users/taylorcasteel/Desktop/Adult_NSFMath_Mai...</td>\n",
       "      <td>2</td>\n",
       "      <td>2.960639</td>\n",
       "      <td>4</td>\n",
       "      <td>2</td>\n",
       "      <td>3</td>\n",
       "      <td>34.000000</td>\n",
       "      <td>72.844041</td>\n",
       "    </tr>\n",
       "    <tr>\n",
       "      <td>3</td>\n",
       "      <td>3</td>\n",
       "      <td>96</td>\n",
       "      <td>/Users/taylorcasteel/Desktop/Adult_NSFMath_Mai...</td>\n",
       "      <td>/Users/taylorcasteel/Desktop/Adult_NSFMath_Mai...</td>\n",
       "      <td>1</td>\n",
       "      <td>1.957288</td>\n",
       "      <td>1</td>\n",
       "      <td>2</td>\n",
       "      <td>3</td>\n",
       "      <td>50.022115</td>\n",
       "      <td>72.844041</td>\n",
       "    </tr>\n",
       "    <tr>\n",
       "      <td>5</td>\n",
       "      <td>5</td>\n",
       "      <td>64</td>\n",
       "      <td>/Users/taylorcasteel/Desktop/Adult_NSFMath_Mai...</td>\n",
       "      <td>/Users/taylorcasteel/Desktop/Adult_NSFMath_Mai...</td>\n",
       "      <td>1</td>\n",
       "      <td>1.227579</td>\n",
       "      <td>4</td>\n",
       "      <td>1</td>\n",
       "      <td>2</td>\n",
       "      <td>23.000000</td>\n",
       "      <td>29.899129</td>\n",
       "    </tr>\n",
       "    <tr>\n",
       "      <td>7</td>\n",
       "      <td>7</td>\n",
       "      <td>76</td>\n",
       "      <td>/Users/taylorcasteel/Desktop/Adult_NSFMath_Mai...</td>\n",
       "      <td>/Users/taylorcasteel/Desktop/Adult_NSFMath_Mai...</td>\n",
       "      <td>1</td>\n",
       "      <td>1.215825</td>\n",
       "      <td>4</td>\n",
       "      <td>1</td>\n",
       "      <td>4</td>\n",
       "      <td>75.000000</td>\n",
       "      <td>50.022115</td>\n",
       "    </tr>\n",
       "    <tr>\n",
       "      <td>...</td>\n",
       "      <td>...</td>\n",
       "      <td>...</td>\n",
       "      <td>...</td>\n",
       "      <td>...</td>\n",
       "      <td>...</td>\n",
       "      <td>...</td>\n",
       "      <td>...</td>\n",
       "      <td>...</td>\n",
       "      <td>...</td>\n",
       "      <td>...</td>\n",
       "      <td>...</td>\n",
       "    </tr>\n",
       "    <tr>\n",
       "      <td>154</td>\n",
       "      <td>154</td>\n",
       "      <td>83</td>\n",
       "      <td>/Users/taylorcasteel/Desktop/Adult_NSFMath_Mai...</td>\n",
       "      <td>/Users/taylorcasteel/Desktop/Adult_NSFMath_Mai...</td>\n",
       "      <td>2</td>\n",
       "      <td>0.628634</td>\n",
       "      <td>1</td>\n",
       "      <td>2</td>\n",
       "      <td>1</td>\n",
       "      <td>29.899129</td>\n",
       "      <td>35.692862</td>\n",
       "    </tr>\n",
       "    <tr>\n",
       "      <td>155</td>\n",
       "      <td>155</td>\n",
       "      <td>75</td>\n",
       "      <td>/Users/taylorcasteel/Desktop/Adult_NSFMath_Mai...</td>\n",
       "      <td>/Users/taylorcasteel/Desktop/Adult_NSFMath_Mai...</td>\n",
       "      <td>2</td>\n",
       "      <td>0.862882</td>\n",
       "      <td>4</td>\n",
       "      <td>1</td>\n",
       "      <td>4</td>\n",
       "      <td>75.000000</td>\n",
       "      <td>50.022115</td>\n",
       "    </tr>\n",
       "    <tr>\n",
       "      <td>157</td>\n",
       "      <td>157</td>\n",
       "      <td>74</td>\n",
       "      <td>/Users/taylorcasteel/Desktop/Adult_NSFMath_Mai...</td>\n",
       "      <td>/Users/taylorcasteel/Desktop/Adult_NSFMath_Mai...</td>\n",
       "      <td>2</td>\n",
       "      <td>1.161694</td>\n",
       "      <td>4</td>\n",
       "      <td>1</td>\n",
       "      <td>4</td>\n",
       "      <td>31.000000</td>\n",
       "      <td>29.899129</td>\n",
       "    </tr>\n",
       "    <tr>\n",
       "      <td>158</td>\n",
       "      <td>158</td>\n",
       "      <td>103</td>\n",
       "      <td>/Users/taylorcasteel/Desktop/Adult_NSFMath_Mai...</td>\n",
       "      <td>/Users/taylorcasteel/Desktop/Adult_NSFMath_Mai...</td>\n",
       "      <td>2</td>\n",
       "      <td>0.631313</td>\n",
       "      <td>1</td>\n",
       "      <td>1</td>\n",
       "      <td>2</td>\n",
       "      <td>39.875526</td>\n",
       "      <td>29.899129</td>\n",
       "    </tr>\n",
       "    <tr>\n",
       "      <td>159</td>\n",
       "      <td>159</td>\n",
       "      <td>8</td>\n",
       "      <td>/Users/taylorcasteel/Desktop/Adult_NSFMath_Mai...</td>\n",
       "      <td>/Users/taylorcasteel/Desktop/Adult_NSFMath_Mai...</td>\n",
       "      <td>2</td>\n",
       "      <td>2.361435</td>\n",
       "      <td>3</td>\n",
       "      <td>2</td>\n",
       "      <td>1</td>\n",
       "      <td>57.321294</td>\n",
       "      <td>56.000000</td>\n",
       "    </tr>\n",
       "  </tbody>\n",
       "</table>\n",
       "<p>120 rows × 11 columns</p>\n",
       "</div>"
      ],
      "text/plain": [
       "     Unnamed: 0  TrialID                                               img1  \\\n",
       "1             1      109  /Users/taylorcasteel/Desktop/Adult_NSFMath_Mai...   \n",
       "2             2       55  /Users/taylorcasteel/Desktop/Adult_NSFMath_Mai...   \n",
       "3             3       96  /Users/taylorcasteel/Desktop/Adult_NSFMath_Mai...   \n",
       "5             5       64  /Users/taylorcasteel/Desktop/Adult_NSFMath_Mai...   \n",
       "7             7       76  /Users/taylorcasteel/Desktop/Adult_NSFMath_Mai...   \n",
       "..          ...      ...                                                ...   \n",
       "154         154       83  /Users/taylorcasteel/Desktop/Adult_NSFMath_Mai...   \n",
       "155         155       75  /Users/taylorcasteel/Desktop/Adult_NSFMath_Mai...   \n",
       "157         157       74  /Users/taylorcasteel/Desktop/Adult_NSFMath_Mai...   \n",
       "158         158      103  /Users/taylorcasteel/Desktop/Adult_NSFMath_Mai...   \n",
       "159         159        8  /Users/taylorcasteel/Desktop/Adult_NSFMath_Mai...   \n",
       "\n",
       "                                                  img2  Response        RT  \\\n",
       "1    /Users/taylorcasteel/Desktop/Adult_NSFMath_Mai...         2  6.777073   \n",
       "2    /Users/taylorcasteel/Desktop/Adult_NSFMath_Mai...         2  2.960639   \n",
       "3    /Users/taylorcasteel/Desktop/Adult_NSFMath_Mai...         1  1.957288   \n",
       "5    /Users/taylorcasteel/Desktop/Adult_NSFMath_Mai...         1  1.227579   \n",
       "7    /Users/taylorcasteel/Desktop/Adult_NSFMath_Mai...         1  1.215825   \n",
       "..                                                 ...       ...       ...   \n",
       "154  /Users/taylorcasteel/Desktop/Adult_NSFMath_Mai...         2  0.628634   \n",
       "155  /Users/taylorcasteel/Desktop/Adult_NSFMath_Mai...         2  0.862882   \n",
       "157  /Users/taylorcasteel/Desktop/Adult_NSFMath_Mai...         2  1.161694   \n",
       "158  /Users/taylorcasteel/Desktop/Adult_NSFMath_Mai...         2  0.631313   \n",
       "159  /Users/taylorcasteel/Desktop/Adult_NSFMath_Mai...         2  2.361435   \n",
       "\n",
       "     Condition  Correct_Answer  Ratio  dot_quan_1  dot_quan_2  \n",
       "1            1               1      2   54.165375   40.872086  \n",
       "2            4               2      3   34.000000   72.844041  \n",
       "3            1               2      3   50.022115   72.844041  \n",
       "5            4               1      2   23.000000   29.899129  \n",
       "7            4               1      4   75.000000   50.022115  \n",
       "..         ...             ...    ...         ...         ...  \n",
       "154          1               2      1   29.899129   35.692862  \n",
       "155          4               1      4   75.000000   50.022115  \n",
       "157          4               1      4   31.000000   29.899129  \n",
       "158          1               1      2   39.875526   29.899129  \n",
       "159          3               2      1   57.321294   56.000000  \n",
       "\n",
       "[120 rows x 11 columns]"
      ]
     },
     "execution_count": 36,
     "metadata": {},
     "output_type": "execute_result"
    }
   ],
   "source": [
    "df_dot.to_csv('/Desktop/s367_adjust.csv', index = False)"
   ]
  },
  {
   "cell_type": "code",
   "execution_count": 25,
   "metadata": {},
   "outputs": [
    {
     "data": {
      "text/plain": [
       "1        39_0.1.png\n",
       "2      S_34_0.1.png\n",
       "3        34_0.2.png\n",
       "5      S_23_0.2.png\n",
       "7      S_75_0.2.png\n",
       "           ...     \n",
       "154      14_0.1.png\n",
       "155    S_75_0.1.png\n",
       "157    S_31_0.2.png\n",
       "158      23_0.1.png\n",
       "159      43_0.2.png\n",
       "Name: img1, Length: 120, dtype: object"
      ]
     },
     "execution_count": 25,
     "metadata": {},
     "output_type": "execute_result"
    }
   ],
   "source": [
    "info1"
   ]
  },
  {
   "cell_type": "code",
   "execution_count": 40,
   "metadata": {},
   "outputs": [
    {
     "ename": "IndexError",
     "evalue": "only integers, slices (`:`), ellipsis (`...`), numpy.newaxis (`None`) and integer or boolean arrays are valid indices",
     "output_type": "error",
     "traceback": [
      "\u001b[0;31m---------------------------------------------------------------------------\u001b[0m",
      "\u001b[0;31mIndexError\u001b[0m                                Traceback (most recent call last)",
      "\u001b[0;32m<ipython-input-40-1b48077a52a2>\u001b[0m in \u001b[0;36m<module>\u001b[0;34m\u001b[0m\n\u001b[0;32m----> 1\u001b[0;31m \u001b[0mdf\u001b[0m\u001b[0;34m[\u001b[0m\u001b[0;34m'dot_quan_1'\u001b[0m\u001b[0;34m]\u001b[0m\u001b[0;34m\u001b[0m\u001b[0;34m\u001b[0m\u001b[0m\n\u001b[0m",
      "\u001b[0;31mIndexError\u001b[0m: only integers, slices (`:`), ellipsis (`...`), numpy.newaxis (`None`) and integer or boolean arrays are valid indices"
     ]
    }
   ],
   "source": [
    "df['dot_quan_1']"
   ]
  },
  {
   "cell_type": "code",
   "execution_count": null,
   "metadata": {},
   "outputs": [],
   "source": []
  }
 ],
 "metadata": {
  "kernelspec": {
   "display_name": "Python 3",
   "language": "python",
   "name": "python3"
  },
  "language_info": {
   "codemirror_mode": {
    "name": "ipython",
    "version": 3
   },
   "file_extension": ".py",
   "mimetype": "text/x-python",
   "name": "python",
   "nbconvert_exporter": "python",
   "pygments_lexer": "ipython3",
   "version": "3.7.4"
  }
 },
 "nbformat": 4,
 "nbformat_minor": 2
}
