{
 "cells": [
  {
   "cell_type": "code",
   "execution_count": 1,
   "metadata": {},
   "outputs": [
    {
     "name": "stdout",
     "output_type": "stream",
     "text": [
      "Populating the interactive namespace from numpy and matplotlib\n"
     ]
    }
   ],
   "source": [
    "# First load in the data files \n",
    "%pylab inline\n",
    "import pandas as pd\n",
    "from tqdm import tqdm"
   ]
  },
  {
   "cell_type": "code",
   "execution_count": 13,
   "metadata": {},
   "outputs": [],
   "source": [
    "subj_list = [304,305,306,307,308,309]\n",
    "# subj_list = [304]"
   ]
  },
  {
   "cell_type": "code",
   "execution_count": 14,
   "metadata": {},
   "outputs": [
    {
     "name": "stderr",
     "output_type": "stream",
     "text": [
      "100%|██████████| 6/6 [00:03<00:00,  1.77it/s]\n"
     ]
    }
   ],
   "source": [
    "for i in tqdm(subj_list):\n",
    "    df = pd.read_csv (f\"/Volumes/project/NSFMath/Main/Behavioral_Task_Data/Computer_tasks/s{i}/Sub{i}_comparison.csv\")\n",
    "    \n",
    "    #print(info) # colums can not be split, you need to use apply to each element,here is each trial\n",
    "    # info_1 = df['img1'].apply(lambda x: x.split('/')[7])\n",
    "    # info_2 = df['img2'].apply(lambda x: x.split('/')[7])\n",
    "    \n",
    "    # info_1_split_0 = info_1.apply(lambda x: x.split('_')[0])\n",
    "    # print (info_1_split_0)\n",
    "    # info_2_split_0 = info_2.apply(lambda x: x.split('_')[0])\n",
    "    # print(info_2_split_0)\n",
    "    \n",
    "    # iterate over each row\n",
    "    for index, row in df.iterrows():\n",
    "        # get filename from image 1 and image 2\n",
    "        info_1 = row['img1'].split('/')[-1]  # get the last element in the list\n",
    "        info_1 = info_1[:-4]  # remove the last four characters\n",
    "        info_2 = row['img2'].split('/')[-1]  # get the last element in the list\n",
    "        info_2 = info_2[:-4]  # remove the last four characters\n",
    "        \n",
    "        elements_1 = info_1.split('_')  # i.e. ['S','27','0.2'] or ['27','0.2']\n",
    "        elements_2 = info_2.split('_')  # i.e. ['S','27','0.2'] or ['27','0.2']\n",
    "        \n",
    "        # assign conditions\n",
    "        # if len(elemenst) == 2: dots; if 3 then symbolic\n",
    "        if len(elements_1) == 2 and len(elements_2) == 2:\n",
    "            condition = 1\n",
    "        elif len(elements_1) == 3 and len(elements_2) == 3:\n",
    "            condition = 2\n",
    "        elif len(elements_1) == 2 and len(elements_2) == 3:\n",
    "            condition = 3\n",
    "        elif len(elements_1) == 3 and len(elements_2) == 2:\n",
    "            condition = 4\n",
    "            \n",
    "        # save condition into a column\n",
    "        df.at[index, 'Condition'] = condition\n",
    "        \n",
    "        # drop the 'S' if there exists by taking the second last two elements\n",
    "        num_1 = int(elements_1[-2])  # take the second last element of the list <- convert str to int first\n",
    "        num_2 = int(elements_2[-2]) \n",
    "        \n",
    "        # get correct answer and ratio (larger number / smaller number)\n",
    "        if num_1 > num_2:\n",
    "            correct = 1\n",
    "            ratio = num_1 / num_2\n",
    "        else:\n",
    "            correct = 2\n",
    "            ratio = num_2 / num_1\n",
    "        \n",
    "        df.at[index,'Correct_Answer'] = correct  # save as a new column   \n",
    "        ratio = floor(ratio*10)/10  # i.e. 1.35 --*10--> 13.5 --floor--> 13 --/10--> 1.3\n",
    "        \n",
    "        if ratio == 1.3: \n",
    "            df.at[index,'Ratio'] = 1\n",
    "        elif ratio == 1.6:\n",
    "            df.at[index,'Ratio'] = 2\n",
    "        elif ratio == 1.9:\n",
    "            df.at[index,'Ratio'] = 3\n",
    "        elif ratio == 2.2:\n",
    "            df.at[index,'Ratio'] = 4\n",
    "        else:\n",
    "            print(\"Something is wrong!\")\n",
    "            print(f\"ratio={ratio}\")\n",
    "            \n",
    "        # end of loop for each row\n",
    "\n",
    "    # save it out\n",
    "    df.to_csv(f'/Volumes/project/NSFMath/Main/Behavioral_Task_Data/Computer_tasks/s{i}/Sub{i}_comparison_corrected.csv')"
   ]
  },
  {
   "cell_type": "markdown",
   "metadata": {},
   "source": [
    "### Ratio 2 and 3 flip"
   ]
  },
  {
   "cell_type": "code",
   "execution_count": 15,
   "metadata": {},
   "outputs": [],
   "source": [
    "subj_list2 = [345,362,330,363,388,3106,3107,310,361,356,3101,3102,399,3122,364,318,352,393,346,3110,397,343,337,3123,312,3120,3112,311,331,396,313,3124,340,374,335,3113,3119,342,3125,3100,3114,366,365,385,327,3108,353,368,326,360,336,314,3117,382,325,390,398,391,334,380,3118,3105,378,386,358,324,3116,317,392,3103,371,384,3121,354,3115,341,350,377,369,348,394,3111,379,3126,3127,3128,3129,315,319,321,322,323,328,332,333,339,347,349,351,355,357,367,370,372,373,375,381,383,387,395,3104,3109]"
   ]
  },
  {
   "cell_type": "code",
   "execution_count": 16,
   "metadata": {},
   "outputs": [
    {
     "name": "stderr",
     "output_type": "stream",
     "text": [
      "100%|██████████| 112/112 [01:20<00:00,  1.40it/s]\n"
     ]
    }
   ],
   "source": [
    "for i in tqdm(subj_list2):\n",
    "    df = pd.read_csv (f\"/Volumes/project/NSFMath/Main/Behavioral_Task_Data/Computer_tasks/s{i}/Sub{i}_comparison.csv\")\n",
    "    \n",
    "    for index, row in df.iterrows():\n",
    "        if row['Ratio'] == 2:\n",
    "            df.at[index,'Ratio'] = 3\n",
    "        elif row['Ratio'] == 3:\n",
    "            df.at[index,'Ratio'] = 2\n",
    "            \n",
    "    df.to_csv(f'/Volumes/project/NSFMath/Main/Behavioral_Task_Data/Computer_tasks/s{i}/Sub{i}_comparison_corrected.csv')"
   ]
  },
  {
   "cell_type": "code",
   "execution_count": null,
   "metadata": {},
   "outputs": [],
   "source": []
  }
 ],
 "metadata": {
  "kernelspec": {
   "display_name": "Python 3",
   "language": "python",
   "name": "python3"
  },
  "language_info": {
   "codemirror_mode": {
    "name": "ipython",
    "version": 3
   },
   "file_extension": ".py",
   "mimetype": "text/x-python",
   "name": "python",
   "nbconvert_exporter": "python",
   "pygments_lexer": "ipython3",
   "version": "3.7.4"
  }
 },
 "nbformat": 4,
 "nbformat_minor": 2
}
