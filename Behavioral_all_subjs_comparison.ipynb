{
 "cells": [
  {
   "cell_type": "code",
   "execution_count": 1,
   "metadata": {},
   "outputs": [
    {
     "name": "stdout",
     "output_type": "stream",
     "text": [
      "Populating the interactive namespace from numpy and matplotlib\n"
     ]
    }
   ],
   "source": [
    "# First load in the data files \n",
    "%pylab inline\n",
    "import pandas as pd\n",
    "from tqdm import tqdm"
   ]
  },
  {
   "cell_type": "code",
   "execution_count": 2,
   "metadata": {},
   "outputs": [],
   "source": [
    "subj_list = [304,305,306,307,308,309,345,362,330,363,388,3106,3107,310,361,356,3101,3102,399,3122,364,318,352,393,346,3110,397,343,337,3123,312,3120,3112,311,331,396,313,3124,340,374,335,3113,3119,342,3125,3100,3114,366,365,385,327,3108,353,368,326,360,336,314,3117,382,325,390,398,391,334,380,3118,3105,378,386,358,324,3116,317,392,3103,371,384,3121,354,3115,341,350,377,369,348,394,3111,379,3126,3127,3128,3129,315,319,321,322,323,328,332,333,339,347,349,351,355,357,367,370,372,373,375,381,383,387,395,3104,3109]\n",
    "\n",
    "# 304,305,306,307,308,309 were added 07/23/2020"
   ]
  },
  {
   "cell_type": "code",
   "execution_count": 3,
   "metadata": {},
   "outputs": [
    {
     "name": "stderr",
     "output_type": "stream",
     "text": [
      "100%|██████████| 118/118 [01:36<00:00,  1.22it/s]\n"
     ]
    }
   ],
   "source": [
    "results = []\n",
    "\n",
    "for i in tqdm(subj_list):\n",
    "    df = pd.read_csv (f\"/Volumes/project/NSFMath/Main/Behavioral_Task_Data/Computer_tasks//s{i}/Sub{i}_comparison_corrected.csv\")\n",
    "    #print(i)\n",
    "    \n",
    "    RT_mean = df ['RT'].mean()\n",
    "    #print(f\"RT_mean={RT_mean}\")\n",
    "    RT_std = df ['RT'].std()\n",
    "    #print(f\"RT_std = {RT_std}\")   \n",
    "    \n",
    "    df['RT_corrected'] = df['RT'].apply(lambda x: x  if ((x >= 0.2) and ((( x -RT_mean)/RT_std) <= 3)) else np.nan)# get rid of outliers beyond 3 std\n",
    "    #df[np.isnan(df['RT_corrected'])]['TrialID'] # The corresbonding Trial ID excluded. \n",
    "    \n",
    "    df.loc[df['Response'] == df['Correct_Answer'],'Acc'] = 1\n",
    "    df.loc[df['Response'] != df['Correct_Answer'],'Acc'] = 0\n",
    "    \n",
    "    df['Acc_corrected'] = df ['Acc']\n",
    "    df.loc[np.isnan(df['RT_corrected']),'Acc_corrected'] = np.nan # get rid of null values;np.isnan is right, not != np.nan\n",
    "    \n",
    "    df['RT_cond1'] = df ['RT_corrected']\n",
    "    df.loc[df['Condition'] != 1,'RT_cond1'] = np.nan\n",
    "    \n",
    "    df['RT_cond2'] = df ['RT_corrected']\n",
    "    df.loc[df['Condition'] != 2,'RT_cond2'] = np.nan\n",
    "    \n",
    "    df['RT_cond3'] = df ['RT_corrected']\n",
    "    df.loc[df['Condition'] != 3,'RT_cond3'] = np.nan\n",
    "    \n",
    "    df['RT_cond4'] = df ['RT_corrected']\n",
    "    df.loc[df['Condition'] != 4,'RT_cond4'] = np.nan\n",
    "    \n",
    "    df['Acc_cond1'] = df ['Acc_corrected']\n",
    "    df.loc[df['Condition'] != 1,'Acc_cond1'] = np.nan\n",
    "    \n",
    "    df['Acc_cond2'] = df ['Acc_corrected']\n",
    "    df.loc[df['Condition'] != 2,'Acc_cond2'] = np.nan\n",
    "\n",
    "    df['Acc_cond3'] = df ['Acc_corrected']\n",
    "    df.loc[df['Condition'] != 3,'Acc_cond3'] = np.nan\n",
    "    \n",
    "    df['Acc_cond4'] = df ['Acc_corrected']\n",
    "    df.loc[df['Condition'] != 4,'Acc_cond4'] = np.nan\n",
    "    \n",
    "    df['RT_ratio1'] = df ['RT_corrected']\n",
    "    df.loc[df['Ratio'] != 1,'RT_ratio1'] = np.nan\n",
    "    \n",
    "    df['RT_ratio2'] = df ['RT_corrected']\n",
    "    df.loc[df['Ratio'] != 2,'RT_ratio2'] = np.nan\n",
    "    \n",
    "    df['RT_ratio3'] = df ['RT_corrected']\n",
    "    df.loc[df['Ratio'] != 3,'RT_ratio3'] = np.nan\n",
    "    \n",
    "    df['RT_ratio4'] = df ['RT_corrected']\n",
    "    df.loc[df['Ratio'] != 4,'RT_ratio4'] = np.nan\n",
    "    \n",
    "    df['Acc_ratio1'] = df ['Acc_corrected']\n",
    "    df.loc[df['Ratio'] != 1,'Acc_ratio1'] = np.nan\n",
    "    \n",
    "    df['Acc_ratio2'] = df ['Acc_corrected']\n",
    "    df.loc[df['Ratio'] != 2,'Acc_ratio2'] = np.nan\n",
    "    \n",
    "    df['Acc_ratio3'] = df ['Acc_corrected']\n",
    "    df.loc[df['Ratio'] != 3,'Acc_ratio3'] = np.nan\n",
    "    \n",
    "    df['Acc_ratio4'] = df ['Acc_corrected']\n",
    "    df.loc[df['Ratio'] != 4,'Acc_ratio4'] = np.nan\n",
    "    \n",
    "    df['TrialID_corrected'] = df ['TrialID']\n",
    "    df.loc[np.isnan(df['RT_corrected']),'TrialID_corrected'] = np.nan\n",
    "    \n",
    "    df.to_csv(f\"/Volumes/project/NSFMath/Main/Behavioral_Task_Data/Computer_tasks//s{i}/s{i}_comparison_reorganized.csv\",index = False)\n",
    "    \n",
    "    results_dict = {'SubjId': i,'Trial_count': len(df[~np.isnan(df['TrialID_corrected'])]),'RT_mean_overall': df['RT_corrected'].mean(), 'Acc_mean_overall': df['Acc_corrected'].mean(), 'RT_cond1': df['RT_cond1'].mean(),\n",
    "       'RT_cond2': df['RT_cond2'].mean(),'RT_cond3': df['RT_cond3'].mean(),'RT_cond4': df['RT_cond4'].mean(),\n",
    "       'Acc_cond1': df['Acc_cond1'].mean(),'Acc_cond2': df['Acc_cond2'].mean(),'Acc_cond3': df['Acc_cond3'].mean(),'Acc_cond4': df['Acc_cond4'].mean(),\n",
    "       'RT_ratio1': df['RT_ratio1'].mean(),'RT_ratio2': df['RT_ratio2'].mean(),'RT_ratio3': df['RT_ratio3'].mean(),'RT_ratio4': df['RT_ratio4'].mean(),\n",
    "       'Acc_ratio1': df['Acc_ratio1'].mean(),'Acc_ratio2': df['Acc_ratio2'].mean(),'Acc_ratio3': df['Acc_ratio3'].mean(),'Acc_ratio4': df['Acc_ratio4'].mean(),\n",
    "       'TrialID_excluded': list(df[np.isnan(df['RT_corrected'])]['TrialID'])}\n",
    "    results.append(results_dict)\n",
    "  \n"
   ]
  },
  {
   "cell_type": "code",
   "execution_count": 5,
   "metadata": {},
   "outputs": [],
   "source": [
    "data_resutls = pd.DataFrame(results)\n",
    "data_resutls.to_csv ('/Volumes/project/NSFMath/Main/Behavioral_Task_Data/Computer_tasks/all_subjs_results_final.csv',index = False)"
   ]
  },
  {
   "cell_type": "code",
   "execution_count": null,
   "metadata": {},
   "outputs": [],
   "source": []
  }
 ],
 "metadata": {
  "kernelspec": {
   "display_name": "Python 3",
   "language": "python",
   "name": "python3"
  },
  "language_info": {
   "codemirror_mode": {
    "name": "ipython",
    "version": 3
   },
   "file_extension": ".py",
   "mimetype": "text/x-python",
   "name": "python",
   "nbconvert_exporter": "python",
   "pygments_lexer": "ipython3",
   "version": "3.7.4"
  }
 },
 "nbformat": 4,
 "nbformat_minor": 2
}
