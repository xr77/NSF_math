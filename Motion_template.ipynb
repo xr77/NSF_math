{
 "cells": [
  {
   "cell_type": "code",
   "execution_count": 1,
   "metadata": {},
   "outputs": [
    {
     "name": "stdout",
     "output_type": "stream",
     "text": [
      "Populating the interactive namespace from numpy and matplotlib\n"
     ]
    }
   ],
   "source": [
    "# First load in the data files \n",
    "%pylab inline\n",
    "import pandas as pd\n",
    "from tqdm import tqdm"
   ]
  },
  {
   "cell_type": "code",
   "execution_count": 2,
   "metadata": {},
   "outputs": [],
   "source": [
    "indir = '/Volumes/project/NSFMath/Main/Data/Imaging/Study/Adult/Caroline_Processed/'\n",
    "outdir = '/Volumes/project/NSFMath/Main/Data/Imaging/Study/Adult/Caroline_Processed/'\n",
    "subj_list = [345,362,330,363,388,3106,3107,310,361,356,3101,3102,399,3122,364,318,352,393,376,346,3110,397,306,343,337,3123,312,322,3120,3112,311,331,396,313,307,3124,340,374,301,335,3113,3119,342,3125,3100,3114,366,365,305,385,327,3108,353,368,326,360,336,314,3117,304,382,325,390,398,391,334,380,3118,308,3105,378,386,358,324,3116,317,392,3103,371,384,3121,354,3115,341,350,377,369,309,348]\n",
    "#subj_list = [3118]"
   ]
  },
  {
   "cell_type": "code",
   "execution_count": 3,
   "metadata": {
    "scrolled": true
   },
   "outputs": [
    {
     "name": "stderr",
     "output_type": "stream",
     "text": [
      "100%|██████████| 89/89 [00:23<00:00,  3.72it/s]\n"
     ]
    }
   ],
   "source": [
    "motion_all = []\n",
    "\n",
    "for i in tqdm(subj_list):\n",
    "    \n",
    "    motion = np.loadtxt (f'{indir}s{i}/s{i}.results/dfile.rall.1D')\n",
    "    motion_last3cols = motion [:, 3:6]#only last 3 columns are usable;\n",
    "    motion_sum = np.sqrt(np.sum(motion_last3cols**2, axis = 1)) #take a square of all the values, then sum across colums;\n",
    "    motion_max = np.max (motion_sum)#max movement oveall\n",
    "    #print(motion_max)\n",
    "    motion_trial = motion_last3cols[1:,:] - motion_last3cols [:len(motion_last3cols)-1,:] # next row minus the last row\n",
    "    motion_trial_sum = np.sqrt(np.sum(motion_trial**2, axis = 1))\n",
    "    motion_trial_max = np.max(motion_trial_sum) #Max movement between trials\n",
    "    #print(motion_trial_max)#motion\n",
    "    count = (motion_trial_sum > 1.5).sum()\n",
    "    #print(count)\n",
    "    \n",
    "    motion_dict = {'Participants':f's{i}',\n",
    "                   'Max movement between trials': motion_trial_max, \n",
    "                   'Max movement overall':motion_max,\n",
    "                  'Counts above 1.5mm': count}\n",
    "    motion_all.append(motion_dict)"
   ]
  },
  {
   "cell_type": "code",
   "execution_count": 7,
   "metadata": {},
   "outputs": [],
   "source": [
    "motion_final = pd.DataFrame(motion_all)\n",
    "motion_final.to_csv(f'{outdir}/motion_final.csv', index = False)"
   ]
  },
  {
   "cell_type": "code",
   "execution_count": null,
   "metadata": {},
   "outputs": [],
   "source": []
  }
 ],
 "metadata": {
  "kernelspec": {
   "display_name": "Python 3",
   "language": "python",
   "name": "python3"
  },
  "language_info": {
   "codemirror_mode": {
    "name": "ipython",
    "version": 3
   },
   "file_extension": ".py",
   "mimetype": "text/x-python",
   "name": "python",
   "nbconvert_exporter": "python",
   "pygments_lexer": "ipython3",
   "version": "3.7.4"
  }
 },
 "nbformat": 4,
 "nbformat_minor": 2
}
